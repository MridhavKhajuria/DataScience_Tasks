{
 "cells": [
  {
   "cell_type": "code",
   "execution_count": 1,
   "id": "bbce6b34-d71c-4c37-bc24-444d2d0e3406",
   "metadata": {},
   "outputs": [],
   "source": [
    "import pandas as pd\n",
    "import numpy as np"
   ]
  },
  {
   "cell_type": "code",
   "execution_count": 2,
   "id": "0ccdef32-8657-4b7e-b8d2-e8af694737a8",
   "metadata": {},
   "outputs": [],
   "source": [
    "df = pd.read_csv(r\"C:\\Users\\HP\\Desktop\\Folders\\Coding\\Practice\\DataScience_Tasks\\dataCleaningPrac\\dirty_cafe_sales.csv\")"
   ]
  },
  {
   "cell_type": "code",
   "execution_count": 4,
   "id": "74cb552a-5c80-4414-b4e6-7b54e8ec554a",
   "metadata": {},
   "outputs": [
    {
     "name": "stdout",
     "output_type": "stream",
     "text": [
      "     Transaction ID      Item Quantity Price Per Unit Total Spent  \\\n",
      "0       TXN_1961373    Coffee        2            2.0         4.0   \n",
      "1       TXN_4977031      Cake        4            3.0        12.0   \n",
      "2       TXN_4271903    Cookie        4            1.0       ERROR   \n",
      "3       TXN_7034554     Salad        2            5.0        10.0   \n",
      "4       TXN_3160411    Coffee        2            2.0         4.0   \n",
      "...             ...       ...      ...            ...         ...   \n",
      "9995    TXN_7672686    Coffee        2            2.0         4.0   \n",
      "9996    TXN_9659401       NaN        3            NaN         3.0   \n",
      "9997    TXN_5255387    Coffee        4            2.0         8.0   \n",
      "9998    TXN_7695629    Cookie        3            NaN         3.0   \n",
      "9999    TXN_6170729  Sandwich        3            4.0        12.0   \n",
      "\n",
      "      Payment Method  Location Transaction Date  \n",
      "0        Credit Card  Takeaway       2023-09-08  \n",
      "1               Cash  In-store       2023-05-16  \n",
      "2        Credit Card  In-store       2023-07-19  \n",
      "3            UNKNOWN   UNKNOWN       2023-04-27  \n",
      "4     Digital Wallet  In-store       2023-06-11  \n",
      "...              ...       ...              ...  \n",
      "9995             NaN   UNKNOWN       2023-08-30  \n",
      "9996  Digital Wallet       NaN       2023-06-02  \n",
      "9997  Digital Wallet       NaN       2023-03-02  \n",
      "9998  Digital Wallet       NaN       2023-12-02  \n",
      "9999            Cash  In-store       2023-11-07  \n",
      "\n",
      "[10000 rows x 8 columns]\n"
     ]
    }
   ],
   "source": [
    "print(df)"
   ]
  },
  {
   "cell_type": "code",
   "execution_count": 6,
   "id": "f3ec9ca7-896b-473f-b704-17848f3ef63b",
   "metadata": {},
   "outputs": [
    {
     "name": "stdout",
     "output_type": "stream",
     "text": [
      "(10000, 8)\n"
     ]
    }
   ],
   "source": [
    "print(df.shape)"
   ]
  },
  {
   "cell_type": "code",
   "execution_count": 7,
   "id": "457033e5-2a84-45a3-a545-c39e2f14bce3",
   "metadata": {},
   "outputs": [
    {
     "name": "stdout",
     "output_type": "stream",
     "text": [
      "<class 'pandas.core.frame.DataFrame'>\n",
      "RangeIndex: 10000 entries, 0 to 9999\n",
      "Data columns (total 8 columns):\n",
      " #   Column            Non-Null Count  Dtype \n",
      "---  ------            --------------  ----- \n",
      " 0   Transaction ID    10000 non-null  object\n",
      " 1   Item              9667 non-null   object\n",
      " 2   Quantity          9862 non-null   object\n",
      " 3   Price Per Unit    9821 non-null   object\n",
      " 4   Total Spent       9827 non-null   object\n",
      " 5   Payment Method    7421 non-null   object\n",
      " 6   Location          6735 non-null   object\n",
      " 7   Transaction Date  9841 non-null   object\n",
      "dtypes: object(8)\n",
      "memory usage: 625.1+ KB\n",
      "None\n"
     ]
    }
   ],
   "source": [
    "print(df.info())"
   ]
  },
  {
   "cell_type": "code",
   "execution_count": 8,
   "id": "04da5eb6-73f7-42a4-b91f-c14fcf295295",
   "metadata": {},
   "outputs": [
    {
     "name": "stdout",
     "output_type": "stream",
     "text": [
      "  Transaction ID    Item Quantity Price Per Unit Total Spent  Payment Method  \\\n",
      "0    TXN_1961373  Coffee        2            2.0         4.0     Credit Card   \n",
      "1    TXN_4977031    Cake        4            3.0        12.0            Cash   \n",
      "2    TXN_4271903  Cookie        4            1.0       ERROR     Credit Card   \n",
      "3    TXN_7034554   Salad        2            5.0        10.0         UNKNOWN   \n",
      "4    TXN_3160411  Coffee        2            2.0         4.0  Digital Wallet   \n",
      "\n",
      "   Location Transaction Date  \n",
      "0  Takeaway       2023-09-08  \n",
      "1  In-store       2023-05-16  \n",
      "2  In-store       2023-07-19  \n",
      "3   UNKNOWN       2023-04-27  \n",
      "4  In-store       2023-06-11  \n"
     ]
    }
   ],
   "source": [
    "print(df.head())"
   ]
  },
  {
   "cell_type": "code",
   "execution_count": 9,
   "id": "e07cae4b-9281-49ca-bed7-8e487a177da8",
   "metadata": {},
   "outputs": [
    {
     "name": "stdout",
     "output_type": "stream",
     "text": [
      "Transaction ID         0\n",
      "Item                 333\n",
      "Quantity             138\n",
      "Price Per Unit       179\n",
      "Total Spent          173\n",
      "Payment Method      2579\n",
      "Location            3265\n",
      "Transaction Date     159\n",
      "dtype: int64\n"
     ]
    }
   ],
   "source": [
    "print(df.isnull().sum())"
   ]
  },
  {
   "cell_type": "code",
   "execution_count": 21,
   "id": "007ee8cc-2320-4b86-b20e-b9c2d5f629ca",
   "metadata": {},
   "outputs": [],
   "source": [
    "df.columns = df.columns.str.strip().str.lower().str.replace(' ', '_')"
   ]
  },
  {
   "cell_type": "code",
   "execution_count": 22,
   "id": "6f7a27be-b348-4015-8047-10f8b861820c",
   "metadata": {},
   "outputs": [
    {
     "name": "stdout",
     "output_type": "stream",
     "text": [
      "Index(['transaction_id', 'item', 'quantity', 'price_per_unit', 'total_spent',\n",
      "       'payment_method', 'location', 'transaction_date'],\n",
      "      dtype='object')\n"
     ]
    }
   ],
   "source": [
    "print(df.columns)"
   ]
  },
  {
   "cell_type": "code",
   "execution_count": 25,
   "id": "c5abf4a9-ef46-42e6-93eb-ce26d590eec0",
   "metadata": {
    "scrolled": true
   },
   "outputs": [
    {
     "name": "stdout",
     "output_type": "stream",
     "text": [
      "['transaction_id', 'item', 'quantity', 'price_per_unit', 'total_spent', 'payment_method', 'location', 'transaction_date']\n"
     ]
    }
   ],
   "source": [
    "print(df.columns.tolist())"
   ]
  },
  {
   "cell_type": "code",
   "execution_count": 28,
   "id": "75ff4ff4-4c57-4798-b000-afeb2cb88ac0",
   "metadata": {},
   "outputs": [
    {
     "name": "stdout",
     "output_type": "stream",
     "text": [
      "['transaction_id', 'item', 'quantity', 'price_per_unit', 'total_spent', 'payment_method', 'location', 'transaction_date']\n"
     ]
    }
   ],
   "source": [
    "df.columns = df.columns.str.strip().str.lower().str.replace(\" \", \"_\")\n",
    "print(df.columns.tolist())"
   ]
  },
  {
   "cell_type": "code",
   "execution_count": 30,
   "id": "a3bb8acf-fffa-49ff-9a49-447051365269",
   "metadata": {},
   "outputs": [
    {
     "name": "stdout",
     "output_type": "stream",
     "text": [
      "True\n"
     ]
    }
   ],
   "source": [
    "print('transaction_date' in df.columns)  # Should return True"
   ]
  },
  {
   "cell_type": "code",
   "execution_count": 38,
   "id": "e7e7b3ca-91b0-4fc9-ad2e-04e3145c0b11",
   "metadata": {
    "scrolled": true
   },
   "outputs": [],
   "source": [
    "df['transaction_date'] = pd.to_datetime(df['transaction_date'], errors='coerce', dayfirst=True)"
   ]
  },
  {
   "cell_type": "code",
   "execution_count": 41,
   "id": "378791f6-f04f-4c52-8c2b-3695c0ca58a7",
   "metadata": {},
   "outputs": [
    {
     "name": "stdout",
     "output_type": "stream",
     "text": [
      "0      2023-08-09\n",
      "1             NaT\n",
      "2             NaT\n",
      "3             NaT\n",
      "4      2023-11-06\n",
      "          ...    \n",
      "9995          NaT\n",
      "9996   2023-02-06\n",
      "9997   2023-02-03\n",
      "9998   2023-02-12\n",
      "9999   2023-07-11\n",
      "Name: transaction_date, Length: 10000, dtype: datetime64[ns]\n"
     ]
    }
   ],
   "source": [
    "print(df['transaction_date'])"
   ]
  },
  {
   "cell_type": "markdown",
   "id": "5732eb64-5c6a-46cd-84e8-cf1f7d237d10",
   "metadata": {},
   "source": [
    "## handliing missing data"
   ]
  },
  {
   "cell_type": "code",
   "execution_count": 48,
   "id": "7cbba8f7-3760-457d-8433-22d81d5f63cf",
   "metadata": {},
   "outputs": [],
   "source": [
    "df['price_per_unit'] = pd.to_numeric(df['price_per_unit'], errors='coerce')"
   ]
  },
  {
   "cell_type": "code",
   "execution_count": 49,
   "id": "e774c897-27da-4388-b117-a8fa717b0439",
   "metadata": {},
   "outputs": [
    {
     "name": "stdout",
     "output_type": "stream",
     "text": [
      "0       2.0\n",
      "1       3.0\n",
      "2       1.0\n",
      "3       5.0\n",
      "4       2.0\n",
      "       ... \n",
      "9995    2.0\n",
      "9996    3.0\n",
      "9997    2.0\n",
      "9998    3.0\n",
      "9999    4.0\n",
      "Name: price_per_unit, Length: 10000, dtype: float64\n"
     ]
    }
   ],
   "source": [
    "print(df['price_per_unit'])"
   ]
  },
  {
   "cell_type": "code",
   "execution_count": null,
   "id": "9bce024a-b1bd-4246-b970-191037e72b76",
   "metadata": {},
   "outputs": [],
   "source": [
    "df['quantity'] = pd.to_numeric(df['quantity'], errors='coerce')"
   ]
  },
  {
   "cell_type": "code",
   "execution_count": 50,
   "id": "e1d8c8b4-5d34-4412-b491-933fee146c35",
   "metadata": {},
   "outputs": [
    {
     "name": "stdout",
     "output_type": "stream",
     "text": [
      "0       2\n",
      "1       4\n",
      "2       4\n",
      "3       2\n",
      "4       2\n",
      "       ..\n",
      "9995    2\n",
      "9996    3\n",
      "9997    4\n",
      "9998    3\n",
      "9999    3\n",
      "Name: quantity, Length: 10000, dtype: object\n"
     ]
    }
   ],
   "source": [
    "print(df['quantity'])"
   ]
  },
  {
   "cell_type": "code",
   "execution_count": 51,
   "id": "8815c35c-9abc-44e7-a77e-ba6e8ffa6bc4",
   "metadata": {},
   "outputs": [],
   "source": [
    "df = df.dropna(subset=['transaction_date'])"
   ]
  },
  {
   "cell_type": "code",
   "execution_count": 52,
   "id": "258097d6-23f4-4e08-9a3b-4208c16ef872",
   "metadata": {},
   "outputs": [
    {
     "name": "stdout",
     "output_type": "stream",
     "text": [
      "0      2023-08-09\n",
      "4      2023-11-06\n",
      "6      2023-06-10\n",
      "10     2023-07-11\n",
      "12     2023-03-05\n",
      "          ...    \n",
      "9994   2023-08-01\n",
      "9996   2023-02-06\n",
      "9997   2023-02-03\n",
      "9998   2023-02-12\n",
      "9999   2023-07-11\n",
      "Name: transaction_date, Length: 3742, dtype: datetime64[ns]\n"
     ]
    }
   ],
   "source": [
    "print(df['transaction_date'])"
   ]
  },
  {
   "cell_type": "markdown",
   "id": "331415cd-d66b-4bbe-933a-ae79ea9d81ea",
   "metadata": {},
   "source": [
    "## Remove duplicates from the transaction_id"
   ]
  },
  {
   "cell_type": "code",
   "execution_count": 53,
   "id": "8ad7c53d-2fd0-41be-b955-2cec9a6b032f",
   "metadata": {},
   "outputs": [],
   "source": [
    "df = df.drop_duplicates(subset=['transaction_id'])"
   ]
  },
  {
   "cell_type": "code",
   "execution_count": 54,
   "id": "e08fea0d-015b-41e6-863a-645a569b3e5c",
   "metadata": {},
   "outputs": [
    {
     "name": "stdout",
     "output_type": "stream",
     "text": [
      "     transaction_id      item quantity  price_per_unit total_spent  \\\n",
      "0       TXN_1961373    Coffee        2             2.0         4.0   \n",
      "4       TXN_3160411    Coffee        2             2.0         4.0   \n",
      "6       TXN_4433211   UNKNOWN        3             3.0         9.0   \n",
      "10      TXN_2548360     Salad        5             5.0        25.0   \n",
      "12      TXN_7619095  Sandwich        2             4.0         8.0   \n",
      "...             ...       ...      ...             ...         ...   \n",
      "9994    TXN_7851634   UNKNOWN        4             4.0        16.0   \n",
      "9996    TXN_9659401       NaN        3             3.0         3.0   \n",
      "9997    TXN_5255387    Coffee        4             2.0         8.0   \n",
      "9998    TXN_7695629    Cookie        3             3.0         3.0   \n",
      "9999    TXN_6170729  Sandwich        3             4.0        12.0   \n",
      "\n",
      "      payment_method  location transaction_date  \n",
      "0        Credit Card  Takeaway       2023-08-09  \n",
      "4     Digital Wallet  In-store       2023-11-06  \n",
      "6              ERROR  Takeaway       2023-06-10  \n",
      "10              Cash  Takeaway       2023-07-11  \n",
      "12              Cash  In-store       2023-03-05  \n",
      "...              ...       ...              ...  \n",
      "9994             NaN       NaN       2023-08-01  \n",
      "9996  Digital Wallet       NaN       2023-02-06  \n",
      "9997  Digital Wallet       NaN       2023-02-03  \n",
      "9998  Digital Wallet       NaN       2023-02-12  \n",
      "9999            Cash  In-store       2023-07-11  \n",
      "\n",
      "[3742 rows x 8 columns]\n"
     ]
    }
   ],
   "source": [
    "print(df)"
   ]
  },
  {
   "cell_type": "code",
   "execution_count": 56,
   "id": "4e5f9f7a-d87e-4ff6-83ed-14f3bd8624fe",
   "metadata": {},
   "outputs": [
    {
     "name": "stdout",
     "output_type": "stream",
     "text": [
      "['Takeaway' 'In-store' nan 'ERROR' 'UNKNOWN']\n",
      "['Credit Card' 'Digital Wallet' 'ERROR' 'Cash' nan 'UNKNOWN']\n"
     ]
    }
   ],
   "source": [
    "print(df['location'].unique())\n",
    "print(df['payment_method'].unique())"
   ]
  },
  {
   "cell_type": "code",
   "execution_count": 57,
   "id": "fda277f6-b1f5-4624-b748-a813d8626f77",
   "metadata": {},
   "outputs": [
    {
     "name": "stdout",
     "output_type": "stream",
     "text": [
      "location\n",
      "Takeaway    1143\n",
      "In-store    1128\n",
      "ERROR        124\n",
      "UNKNOWN      123\n",
      "Name: count, dtype: int64\n",
      "payment_method\n",
      "Digital Wallet    868\n",
      "Credit Card       852\n",
      "Cash              843\n",
      "ERROR             118\n",
      "UNKNOWN           111\n",
      "Name: count, dtype: int64\n"
     ]
    }
   ],
   "source": [
    "print(df['location'].value_counts())\n",
    "print(df['payment_method'].value_counts())"
   ]
  },
  {
   "cell_type": "code",
   "execution_count": 58,
   "id": "74f012dd-ac68-421d-9d67-65b7dbf1c4c4",
   "metadata": {},
   "outputs": [
    {
     "name": "stdout",
     "output_type": "stream",
     "text": [
      "4\n",
      "5\n"
     ]
    }
   ],
   "source": [
    "print(df['location'].nunique())\n",
    "print(df['payment_method'].nunique())"
   ]
  },
  {
   "cell_type": "code",
   "execution_count": 59,
   "id": "108c6c42-a148-44be-a7b1-81c006aed2eb",
   "metadata": {},
   "outputs": [],
   "source": [
    "# Lowercase + strip\n",
    "df['location'] = df['location'].str.strip().str.title()\n",
    "df['payment_method'] = df['payment_method'].str.strip().str.lower()"
   ]
  },
  {
   "cell_type": "code",
   "execution_count": 60,
   "id": "375c6cdf-cd00-450c-9a15-a8fa68957eb4",
   "metadata": {},
   "outputs": [
    {
     "name": "stdout",
     "output_type": "stream",
     "text": [
      "location\n",
      "Takeaway    1143\n",
      "In-Store    1128\n",
      "Error        124\n",
      "Unknown      123\n",
      "Name: count, dtype: int64\n",
      "payment_method\n",
      "digital wallet    868\n",
      "credit card       852\n",
      "cash              843\n",
      "error             118\n",
      "unknown           111\n",
      "Name: count, dtype: int64\n"
     ]
    }
   ],
   "source": [
    "print(df['location'].value_counts())\n",
    "print(df['payment_method'].value_counts())"
   ]
  },
  {
   "cell_type": "markdown",
   "id": "2e0898a7-a507-4b3c-b064-976cc9830fa1",
   "metadata": {},
   "source": [
    "## Removing missing values from location and payment_method columns"
   ]
  },
  {
   "cell_type": "code",
   "execution_count": 65,
   "id": "ba1165fe-56d3-42c0-b7f0-ddcab54a9ad4",
   "metadata": {},
   "outputs": [],
   "source": [
    "invalid_entries = ['Error', 'Unknown']"
   ]
  },
  {
   "cell_type": "code",
   "execution_count": 66,
   "id": "ef49b151-d2a2-433a-8ec7-0aae75035370",
   "metadata": {},
   "outputs": [],
   "source": [
    "df_cleaned = df[\n",
    "    (~df['location'].isin(invalid_entries)) &\n",
    "    (~df['payment_method'].isin(invalid_entries)) &\n",
    "    (df['location'].notna()) &\n",
    "    (df['payment_method'].notna())\n",
    "]"
   ]
  },
  {
   "cell_type": "code",
   "execution_count": 68,
   "id": "63927043-61f0-408d-b9c1-7c084e5859b9",
   "metadata": {},
   "outputs": [
    {
     "name": "stdout",
     "output_type": "stream",
     "text": [
      "['Takeaway' 'In-Store']\n",
      "['Credit Card' 'Digital Wallet' 'Cash']\n"
     ]
    }
   ],
   "source": [
    "print(df_cleaned['location'].unique())\n",
    "print(df_cleaned['payment_method'].unique())"
   ]
  },
  {
   "cell_type": "code",
   "execution_count": 69,
   "id": "20b77155-c893-4f83-a60f-40dc5d6170ab",
   "metadata": {},
   "outputs": [],
   "source": [
    "df = df_cleaned"
   ]
  },
  {
   "cell_type": "code",
   "execution_count": 71,
   "id": "2eb1fddd-9ed9-450e-bb21-aa565e57b600",
   "metadata": {},
   "outputs": [],
   "source": [
    "import matplotlib.pyplot as plt\n",
    "import seaborn as sns\n",
    "plt.style.use(\"ggplot\")  # optional: for prettier charts"
   ]
  },
  {
   "cell_type": "code",
   "execution_count": 73,
   "id": "0e0cd942-ad29-430a-a82a-d93b14b1c6ed",
   "metadata": {},
   "outputs": [],
   "source": [
    "df['weekday'] = df['transaction_date'].dt.day_name()\n",
    "df['month'] = df['transaction_date'].dt.month_name()\n",
    "df['hour'] = df['transaction_date'].dt.hour"
   ]
  },
  {
   "cell_type": "code",
   "execution_count": 75,
   "id": "e7d85f01-4479-4de8-91bf-211f7e6e5cf4",
   "metadata": {},
   "outputs": [
    {
     "name": "stdout",
     "output_type": "stream",
     "text": [
      "transaction_date\n",
      "2023-01-01            20.015.020.04.510.04.012.08.03.04.08.09.0\n",
      "2023-01-02    2.09.04.04.05.020.015.03.0ERROR1.53.06.06.010....\n",
      "2023-01-03       8.04.020.09.0ERROR3.025.03.02.03.03.06.06.03.0\n",
      "2023-01-04        8.07.525.04.02.08.010.06.0ERROR4.520.010.06.0\n",
      "2023-01-05                       6.02.09.020.04.55.012.016.03.0\n",
      "Name: total_spent, dtype: object\n",
      "object\n"
     ]
    }
   ],
   "source": [
    "print(daily_revenue.head())\n",
    "print(daily_revenue.dtypes)"
   ]
  },
  {
   "cell_type": "code",
   "execution_count": 80,
   "id": "fb6243c8-cf0c-4e79-a0c5-9c82cc789f43",
   "metadata": {},
   "outputs": [
    {
     "data": {
      "image/png": "[encoded data removed]",
      "text/plain": [
       "<Figure size 1000x500 with 1 Axes>"
      ]
     },
     "metadata": {},
     "output_type": "display_data"
    }
   ],
   "source": [
    "top_items = df['item'].value_counts().head(10)\n",
    "\n",
    "top_items.plot(kind='bar', figsize=(10, 5), title=\"Top 10 Most Sold Items\")\n",
    "plt.ylabel(\"Units Sold\")\n",
    "plt.xlabel(\"Item\")\n",
    "plt.xticks(rotation=45)\n",
    "plt.tight_layout()\n",
    "plt.show()\n"
   ]
  },
  {
   "cell_type": "code",
   "execution_count": 76,
   "id": "d01351d7-f056-4cf8-a037-c45ad3f96533",
   "metadata": {},
   "outputs": [
    {
     "data": {
      "image/png": "[encoded data removed]",
      "text/plain": [
       "<Figure size 600x600 with 1 Axes>"
      ]
     },
     "metadata": {},
     "output_type": "display_data"
    }
   ],
   "source": [
    "df['payment_method'].value_counts().plot(\n",
    "    kind='pie', autopct='%1.1f%%', figsize=(6, 6), title=\"Payment Method Distribution\"\n",
    ")\n",
    "plt.ylabel(\"\")\n",
    "plt.show()"
   ]
  },
  {
   "cell_type": "code",
   "execution_count": null,
   "id": "24f5c7e9-d921-4292-83fa-2c3f630ccc67",
   "metadata": {},
   "outputs": [],
   "source": []
  }
 ],
 "metadata": {
  "kernelspec": {
   "display_name": "Python [conda env:base] *",
   "language": "python",
   "name": "conda-base-py"
  },
  "language_info": {
   "codemirror_mode": {
    "name": "ipython",
    "version": 3
   },
   "file_extension": ".py",
   "mimetype": "text/x-python",
   "name": "python",
   "nbconvert_exporter": "python",
   "pygments_lexer": "ipython3",
   "version": "3.12.7"
  }
 },
 "nbformat": 4,
 "nbformat_minor": 5
}
