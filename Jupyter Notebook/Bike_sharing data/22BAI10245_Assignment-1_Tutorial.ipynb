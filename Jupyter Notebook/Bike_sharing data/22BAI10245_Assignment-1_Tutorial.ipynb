{
 "cells": [
  {
   "cell_type": "markdown",
   "id": "2540febb-914b-4d47-96dc-90972a4a671e",
   "metadata": {},
   "source": [
    "## Importing Libraries"
   ]
  },
  {
   "cell_type": "code",
   "execution_count": 10,
   "id": "18370866-8e67-4aa9-9e8c-44c06f2142f0",
   "metadata": {},
   "outputs": [],
   "source": [
    "import pandas as pd\n",
    "import numpy as np\n",
    "from sklearn.linear_model import LinearRegression, LogisticRegression\n",
    "from sklearn.metrics import confusion_matrix, mean_squared_error, mean_absolute_error\n",
    "from sklearn.model_selection import train_test_split\n",
    "from sklearn.preprocessing import LabelEncoder"
   ]
  },
  {
   "cell_type": "markdown",
   "id": "79e24ad1-8e9d-482a-afe6-d41ec30052c5",
   "metadata": {},
   "source": [
    "## 1. Info of the dataset"
   ]
  },
  {
   "cell_type": "code",
   "execution_count": 11,
   "id": "31ea92b1-6fc4-4fc4-87ef-52982b4dc4f3",
   "metadata": {},
   "outputs": [
    {
     "name": "stdout",
     "output_type": "stream",
     "text": [
      "<class 'pandas.core.frame.DataFrame'>\n",
      "RangeIndex: 17379 entries, 0 to 17378\n",
      "Data columns (total 17 columns):\n",
      " #   Column      Non-Null Count  Dtype  \n",
      "---  ------      --------------  -----  \n",
      " 0   instant     17379 non-null  int64  \n",
      " 1   dteday      17379 non-null  object \n",
      " 2   season      17379 non-null  int64  \n",
      " 3   yr          17379 non-null  int64  \n",
      " 4   mnth        17379 non-null  int64  \n",
      " 5   hr          17379 non-null  int64  \n",
      " 6   holiday     17379 non-null  int64  \n",
      " 7   weekday     17379 non-null  int64  \n",
      " 8   workingday  17379 non-null  int64  \n",
      " 9   weathersit  17379 non-null  int64  \n",
      " 10  temp        17379 non-null  float64\n",
      " 11  atemp       17379 non-null  float64\n",
      " 12  hum         17379 non-null  float64\n",
      " 13  windspeed   17379 non-null  float64\n",
      " 14  casual      17379 non-null  int64  \n",
      " 15  registered  17379 non-null  int64  \n",
      " 16  cnt         17379 non-null  int64  \n",
      "dtypes: float64(4), int64(12), object(1)\n",
      "memory usage: 2.3+ MB\n",
      "None\n"
     ]
    }
   ],
   "source": [
    "df = pd.read_csv(r\"C:\\Users\\HP\\Desktop\\Folders\\Coding\\Practice\\DataScience_Tasks\\Bike_sharing data\\hour.csv\")\n",
    "print(df.info())"
   ]
  },
  {
   "cell_type": "markdown",
   "id": "8bd80d50-b466-4cbe-b0ec-97dca809cce4",
   "metadata": {},
   "source": [
    "## 2. Describe of the dataset"
   ]
  },
  {
   "cell_type": "code",
   "execution_count": 12,
   "id": "d9dafd30-3a66-4bd2-8b7d-d3115a8bdb90",
   "metadata": {},
   "outputs": [
    {
     "name": "stdout",
     "output_type": "stream",
     "text": [
      "          instant        season            yr          mnth            hr  \\\n",
      "count  17379.0000  17379.000000  17379.000000  17379.000000  17379.000000   \n",
      "mean    8690.0000      2.501640      0.502561      6.537775     11.546752   \n",
      "std     5017.0295      1.106918      0.500008      3.438776      6.914405   \n",
      "min        1.0000      1.000000      0.000000      1.000000      0.000000   \n",
      "25%     4345.5000      2.000000      0.000000      4.000000      6.000000   \n",
      "50%     8690.0000      3.000000      1.000000      7.000000     12.000000   \n",
      "75%    13034.5000      3.000000      1.000000     10.000000     18.000000   \n",
      "max    17379.0000      4.000000      1.000000     12.000000     23.000000   \n",
      "\n",
      "            holiday       weekday    workingday    weathersit          temp  \\\n",
      "count  17379.000000  17379.000000  17379.000000  17379.000000  17379.000000   \n",
      "mean       0.028770      3.003683      0.682721      1.425283      0.496987   \n",
      "std        0.167165      2.005771      0.465431      0.639357      0.192556   \n",
      "min        0.000000      0.000000      0.000000      1.000000      0.020000   \n",
      "25%        0.000000      1.000000      0.000000      1.000000      0.340000   \n",
      "50%        0.000000      3.000000      1.000000      1.000000      0.500000   \n",
      "75%        0.000000      5.000000      1.000000      2.000000      0.660000   \n",
      "max        1.000000      6.000000      1.000000      4.000000      1.000000   \n",
      "\n",
      "              atemp           hum     windspeed        casual    registered  \\\n",
      "count  17379.000000  17379.000000  17379.000000  17379.000000  17379.000000   \n",
      "mean       0.475775      0.627229      0.190098     35.676218    153.786869   \n",
      "std        0.171850      0.192930      0.122340     49.305030    151.357286   \n",
      "min        0.000000      0.000000      0.000000      0.000000      0.000000   \n",
      "25%        0.333300      0.480000      0.104500      4.000000     34.000000   \n",
      "50%        0.484800      0.630000      0.194000     17.000000    115.000000   \n",
      "75%        0.621200      0.780000      0.253700     48.000000    220.000000   \n",
      "max        1.000000      1.000000      0.850700    367.000000    886.000000   \n",
      "\n",
      "                cnt  \n",
      "count  17379.000000  \n",
      "mean     189.463088  \n",
      "std      181.387599  \n",
      "min        1.000000  \n",
      "25%       40.000000  \n",
      "50%      142.000000  \n",
      "75%      281.000000  \n",
      "max      977.000000  \n"
     ]
    }
   ],
   "source": [
    "print(df.describe())"
   ]
  },
  {
   "cell_type": "markdown",
   "id": "2ca8e4a7-ef48-4878-9ad8-d154b8e7ef98",
   "metadata": {},
   "source": [
    "## 3. Find any duplicate data of the dataset"
   ]
  },
  {
   "cell_type": "code",
   "execution_count": 13,
   "id": "f0efe54c-7181-4d70-9458-21d2bf429407",
   "metadata": {},
   "outputs": [
    {
     "name": "stdout",
     "output_type": "stream",
     "text": [
      "Empty DataFrame\n",
      "Columns: [instant, dteday, season, yr, mnth, hr, holiday, weekday, workingday, weathersit, temp, atemp, hum, windspeed, casual, registered, cnt]\n",
      "Index: []\n"
     ]
    }
   ],
   "source": [
    "duplicates = df[df.duplicated()]\n",
    "print(duplicates)"
   ]
  },
  {
   "cell_type": "markdown",
   "id": "e3c48aa6-eacc-450b-9a78-39ec648f5a38",
   "metadata": {},
   "source": [
    "## 4. Slicing of the list(row and column both)"
   ]
  },
  {
   "cell_type": "code",
   "execution_count": 14,
   "id": "99ba38e7-dd61-481a-84aa-7274c7b6232d",
   "metadata": {},
   "outputs": [
    {
     "name": "stdout",
     "output_type": "stream",
     "text": [
      "Slicing: Rows 10 to 15 and columns ['dteday', 'hr', 'temp', 'cnt']\n",
      "\n"
     ]
    }
   ],
   "source": [
    "print(\"Slicing: Rows 10 to 15 and columns ['dteday', 'hr', 'temp', 'cnt']\\n\")"
   ]
  },
  {
   "cell_type": "code",
   "execution_count": 15,
   "id": "ae883976-e20f-4954-88f1-de2afc8c93fd",
   "metadata": {},
   "outputs": [
    {
     "name": "stdout",
     "output_type": "stream",
     "text": [
      "        dteday  hr  temp  cnt\n",
      "10  2011-01-01  10  0.38   36\n",
      "11  2011-01-01  11  0.36   56\n",
      "12  2011-01-01  12  0.42   84\n",
      "13  2011-01-01  13  0.46   94\n",
      "14  2011-01-01  14  0.46  106\n",
      "15  2011-01-01  15  0.44  110\n"
     ]
    }
   ],
   "source": [
    "print(df.loc[10:15, ['dteday', 'hr', 'temp', 'cnt']])"
   ]
  },
  {
   "cell_type": "markdown",
   "id": "b1ce00f2-034b-4791-b8d5-6e751df12869",
   "metadata": {},
   "source": [
    "## 5. Linear regression (single and multiple)"
   ]
  },
  {
   "cell_type": "markdown",
   "id": "aad13a6f-2a1e-4f44-865d-3dbbcc7df19c",
   "metadata": {},
   "source": [
    "### a. Single"
   ]
  },
  {
   "cell_type": "code",
   "execution_count": 16,
   "id": "169e9920-4d33-4bd7-b6f0-f99908150fee",
   "metadata": {},
   "outputs": [
    {
     "name": "stdout",
     "output_type": "stream",
     "text": [
      "  Coefficient: 381.29, Intercept: -0.04\n"
     ]
    }
   ],
   "source": [
    "X_single = df[['temp']]\n",
    "y = df['cnt']\n",
    "lr_single = LinearRegression().fit(X_single, y)\n",
    "\n",
    "print(f\"  Coefficient: {lr_single.coef_[0]:.2f}, Intercept: {lr_single.intercept_:.2f}\")"
   ]
  },
  {
   "cell_type": "markdown",
   "id": "db8af70b-8af3-4da9-9191-52b94a97aca5",
   "metadata": {},
   "source": [
    "### b. Multiple"
   ]
  },
  {
   "cell_type": "code",
   "execution_count": 17,
   "id": "324721c8-1b92-416a-9a80-8260a41decbf",
   "metadata": {},
   "outputs": [
    {
     "name": "stdout",
     "output_type": "stream",
     "text": [
      "  temp: 329.15\n",
      "  hum: -206.34\n",
      "  windspeed: -2.41\n",
      "  hr: 7.49\n",
      "  weekday: 1.80\n",
      "  workingday: 5.06\n",
      "  Intercept: 60.39\n"
     ]
    }
   ],
   "source": [
    "features_multi = ['temp', 'hum', 'windspeed', 'hr', 'weekday', 'workingday']\n",
    "X_multi = df[features_multi]\n",
    "y = df['cnt']\n",
    "lr_multi = LinearRegression().fit(X_multi, y)\n",
    "\n",
    "for feature, coef in zip(features_multi, lr_multi.coef_):\n",
    "    print(f\"  {feature}: {coef:.2f}\")\n",
    "print(f\"  Intercept: {lr_multi.intercept_:.2f}\")"
   ]
  },
  {
   "cell_type": "markdown",
   "id": "9193340a-0d6d-49e7-84e7-f1693f5ee29c",
   "metadata": {},
   "source": [
    "## 6. Logistic regression "
   ]
  },
  {
   "cell_type": "code",
   "execution_count": 22,
   "id": "43f87b47-a4db-44eb-8dc6-acb2fb20d9e4",
   "metadata": {},
   "outputs": [
    {
     "name": "stdout",
     "output_type": "stream",
     "text": [
      "  Logistic Regression Accuracy: 0.76\n"
     ]
    }
   ],
   "source": [
    "df['high_usage'] = (df['cnt'] > df['cnt'].mean()).astype(int)\n",
    "X_log = df[features_multi]\n",
    "y_log = df['high_usage']\n",
    "\n",
    "X_train, X_test, y_train, y_test = train_test_split(X_log, y_log, test_size=0.3, random_state=42)\n",
    "log_reg = LogisticRegression(max_iter=200)\n",
    "log_reg.fit(X_train, y_train)\n",
    "\n",
    "print(f\"  Logistic Regression Accuracy: {log_reg.score(X_test, y_test):.2f}\")"
   ]
  },
  {
   "cell_type": "markdown",
   "id": "abfb0a74-6dee-4b32-a867-3cd2f60e1a4e",
   "metadata": {},
   "source": [
    "## 7. Confusion matrix"
   ]
  },
  {
   "cell_type": "code",
   "execution_count": 23,
   "id": "afefc221-1fe0-4038-9e4c-ec870521f64e",
   "metadata": {},
   "outputs": [
    {
     "name": "stdout",
     "output_type": "stream",
     "text": [
      "Confusion Matrix:\n",
      "[[2673  521]\n",
      " [ 756 1264]]\n"
     ]
    }
   ],
   "source": [
    "y_pred_log = log_reg.predict(X_test)\n",
    "cm = confusion_matrix(y_test, y_pred_log)\n",
    "\n",
    "print(\"Confusion Matrix:\")\n",
    "print(cm)"
   ]
  },
  {
   "cell_type": "markdown",
   "id": "0183562c-b76e-4df8-af8e-98ba6043c166",
   "metadata": {},
   "source": [
    "## 8. Any error (MSE, MAE)"
   ]
  },
  {
   "cell_type": "code",
   "execution_count": 24,
   "id": "64926142-3fcc-4972-a60f-20928d1cb018",
   "metadata": {},
   "outputs": [
    {
     "name": "stdout",
     "output_type": "stream",
     "text": [
      "Error Metrics:\n",
      "  Mean Squared Error (MSE): 22186.92\n",
      "  Mean Absolute Error (MAE): 108.98\n"
     ]
    }
   ],
   "source": [
    "y_pred_reg = lr_multi.predict(X_multi)\n",
    "\n",
    "mse = mean_squared_error(y, y_pred_reg)\n",
    "mae = mean_absolute_error(y, y_pred_reg)\n",
    "\n",
    "print(\"Error Metrics:\")\n",
    "print(f\"  Mean Squared Error (MSE): {mse:.2f}\")\n",
    "print(f\"  Mean Absolute Error (MAE): {mae:.2f}\")"
   ]
  },
  {
   "cell_type": "markdown",
   "id": "80ca3bd0-3345-43eb-b5cc-aa24744b96c9",
   "metadata": {},
   "source": [
    "## 9. Gradient descent"
   ]
  },
  {
   "cell_type": "code",
   "execution_count": 25,
   "id": "8ce9afd5-e8df-4995-bc08-1da3177337e8",
   "metadata": {},
   "outputs": [
    {
     "name": "stdout",
     "output_type": "stream",
     "text": [
      "Gradient Descent for Linear Regression (cnt ~ temp):\n",
      "  Slope (m): 214.05, Intercept (b): 85.61\n"
     ]
    }
   ],
   "source": [
    "X_gd = df['temp'].values\n",
    "y_gd = df['cnt'].values\n",
    "m, b = 0.0, 0.0\n",
    "lr = 0.01\n",
    "epochs = 1000\n",
    "n = len(X_gd)\n",
    "\n",
    "for i in range(epochs):\n",
    "    y_pred = m * X_gd + b\n",
    "    error = y_pred - y_gd\n",
    "    m_grad = (2/n) * np.dot(error, X_gd)\n",
    "    b_grad = (2/n) * np.sum(error)\n",
    "    m -= lr * m_grad\n",
    "    b -= lr * b_grad\n",
    "\n",
    "print(\"Gradient Descent for Linear Regression (cnt ~ temp):\")\n",
    "print(f\"  Slope (m): {m:.2f}, Intercept (b): {b:.2f}\")"
   ]
  }
 ],
 "metadata": {
  "kernelspec": {
   "display_name": "Python [conda env:base] *",
   "language": "python",
   "name": "conda-base-py"
  },
  "language_info": {
   "codemirror_mode": {
    "name": "ipython",
    "version": 3
   },
   "file_extension": ".py",
   "mimetype": "text/x-python",
   "name": "python",
   "nbconvert_exporter": "python",
   "pygments_lexer": "ipython3",
   "version": "3.12.3"
  }
 },
 "nbformat": 4,
 "nbformat_minor": 5
}
